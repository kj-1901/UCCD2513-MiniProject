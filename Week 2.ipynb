{
 "cells": [
  {
   "cell_type": "markdown",
   "id": "7b0fe8de",
   "metadata": {},
   "source": [
    "# Learning Outcomes\n",
    "1. Python fundamentals\n",
    "    - basic syntax\n",
    "    - custom function\n",
    "    - data types\n",
    "    - data structure\n",
    "    - numpy module\n",
    "2. Create custom images"
   ]
  },
  {
   "cell_type": "code",
   "execution_count": 1,
   "id": "625b0bfe",
   "metadata": {},
   "outputs": [
    {
     "name": "stdout",
     "output_type": "stream",
     "text": [
      "Hello World\n"
     ]
    }
   ],
   "source": [
    "print(\"Hello World\")"
   ]
  },
  {
   "cell_type": "markdown",
   "id": "b668d6f9",
   "metadata": {},
   "source": [
    "## Custom function"
   ]
  },
  {
   "cell_type": "code",
   "execution_count": 2,
   "id": "8d8aaa6e",
   "metadata": {},
   "outputs": [],
   "source": [
    "def AddTwoNumbers(x, y):\n",
    "    \n",
    "    # This fuction is to add x and y together\n",
    "    \n",
    "    return (x + y)"
   ]
  },
  {
   "cell_type": "code",
   "execution_count": 3,
   "id": "6d2cbe22",
   "metadata": {},
   "outputs": [
    {
     "data": {
      "text/plain": [
       "11"
      ]
     },
     "execution_count": 3,
     "metadata": {},
     "output_type": "execute_result"
    }
   ],
   "source": [
    "AddTwoNumbers(2, 9)"
   ]
  },
  {
   "cell_type": "code",
   "execution_count": 4,
   "id": "507f2215",
   "metadata": {},
   "outputs": [],
   "source": [
    "# function that compare 2 numbers\n",
    "def compare(x, y):\n",
    "    # This function is to compare 2 numbers***\n",
    "    if x > y:\n",
    "        print(f\"{x} is greater than {y}\")\n",
    "    elif x < y:\n",
    "        print(f\"{x} is smaller than {y}\")\n",
    "    else:\n",
    "        print(f\"{x} is equal to {y}\")\n"
   ]
  },
  {
   "cell_type": "code",
   "execution_count": 5,
   "id": "391e17a7",
   "metadata": {},
   "outputs": [
    {
     "name": "stdout",
     "output_type": "stream",
     "text": [
      "2 is equal to 2\n"
     ]
    }
   ],
   "source": [
    "compare(2, 2)"
   ]
  },
  {
   "cell_type": "markdown",
   "id": "bb89308d",
   "metadata": {},
   "source": [
    "## Data types\n",
    "- floating point numbers\n",
    "- integers\n",
    "- string \n",
    "- boolean\n",
    "- complex number (this course not going to use this!)\n"
   ]
  },
  {
   "cell_type": "code",
   "execution_count": 6,
   "id": "86843c44",
   "metadata": {},
   "outputs": [
    {
     "name": "stdout",
     "output_type": "stream",
     "text": [
      "<class 'int'>\n",
      "<class 'float'>\n",
      "<class 'str'>\n",
      "<class 'bool'>\n",
      "<class 'complex'>\n"
     ]
    }
   ],
   "source": [
    "# import external\n",
    "import math\n",
    "x = 0\n",
    "y = math.pi\n",
    "z = \"Computer Vision is cool\"\n",
    "z1 = True\n",
    "z2 = 2j   # complex number: a + bi\n",
    "\n",
    "print(type(x))\n",
    "print(type(y))\n",
    "print(type(z))\n",
    "print(type(z1))\n",
    "print(type(z2))"
   ]
  },
  {
   "cell_type": "code",
   "execution_count": 7,
   "id": "9d826f64",
   "metadata": {},
   "outputs": [
    {
     "data": {
      "text/plain": [
       "complex"
      ]
     },
     "execution_count": 7,
     "metadata": {},
     "output_type": "execute_result"
    }
   ],
   "source": [
    "type(x)\n",
    "type(y)\n",
    "type(z)\n",
    "type(z1)\n",
    "type(z2)"
   ]
  },
  {
   "cell_type": "code",
   "execution_count": 8,
   "id": "7e6758e1",
   "metadata": {},
   "outputs": [],
   "source": [
    "from IPython.core.interactiveshell import InteractiveShell\n",
    "InteractiveShell.ast_node_interactivity = \"all\""
   ]
  },
  {
   "cell_type": "code",
   "execution_count": 9,
   "id": "ec9dedc9",
   "metadata": {},
   "outputs": [
    {
     "data": {
      "text/plain": [
       "int"
      ]
     },
     "execution_count": 9,
     "metadata": {},
     "output_type": "execute_result"
    },
    {
     "data": {
      "text/plain": [
       "float"
      ]
     },
     "execution_count": 9,
     "metadata": {},
     "output_type": "execute_result"
    },
    {
     "data": {
      "text/plain": [
       "str"
      ]
     },
     "execution_count": 9,
     "metadata": {},
     "output_type": "execute_result"
    },
    {
     "data": {
      "text/plain": [
       "bool"
      ]
     },
     "execution_count": 9,
     "metadata": {},
     "output_type": "execute_result"
    },
    {
     "data": {
      "text/plain": [
       "complex"
      ]
     },
     "execution_count": 9,
     "metadata": {},
     "output_type": "execute_result"
    }
   ],
   "source": [
    "type(x)\n",
    "type(y)\n",
    "type(z)\n",
    "type(z1)\n",
    "type(z2)"
   ]
  },
  {
   "cell_type": "code",
   "execution_count": 10,
   "id": "e6d88f27",
   "metadata": {},
   "outputs": [],
   "source": [
    "InteractiveShell.ast_node_interactivity = \"last_expr\""
   ]
  },
  {
   "cell_type": "code",
   "execution_count": 11,
   "id": "c3b02c31",
   "metadata": {},
   "outputs": [
    {
     "data": {
      "text/plain": [
       "complex"
      ]
     },
     "execution_count": 11,
     "metadata": {},
     "output_type": "execute_result"
    }
   ],
   "source": [
    "type(x)\n",
    "type(y)\n",
    "type(z)\n",
    "type(z1)\n",
    "type(z2)"
   ]
  },
  {
   "cell_type": "code",
   "execution_count": 12,
   "id": "f648201f",
   "metadata": {},
   "outputs": [
    {
     "name": "stdout",
     "output_type": "stream",
     "text": [
      "1\n",
      "9.8\n"
     ]
    }
   ],
   "source": [
    "#casting, change the data type\n",
    "x = 5/3\n",
    "y = \"9.8\"\n",
    "\n",
    "print(int(x))\n",
    "print(float(y))"
   ]
  },
  {
   "cell_type": "markdown",
   "id": "325dcb9c",
   "metadata": {},
   "source": [
    "## Data Structures\n",
    "### Lists and Tuple\n",
    "List and tuple are variables that can hold multiple items, Differences: \n",
    "| List | Tuple |"
   ]
  },
  {
   "cell_type": "code",
   "execution_count": 13,
   "id": "f03e0b97",
   "metadata": {},
   "outputs": [
    {
     "name": "stdout",
     "output_type": "stream",
     "text": [
      "['a', '0', 7.89]\n"
     ]
    }
   ],
   "source": [
    "mylist = [\"a\",\"0\",7.89]\n",
    "print(mylist)"
   ]
  },
  {
   "cell_type": "code",
   "execution_count": 14,
   "id": "99335683",
   "metadata": {},
   "outputs": [
    {
     "data": {
      "text/plain": [
       "list"
      ]
     },
     "execution_count": 14,
     "metadata": {},
     "output_type": "execute_result"
    }
   ],
   "source": [
    "type(mylist)"
   ]
  },
  {
   "cell_type": "code",
   "execution_count": 15,
   "id": "b2114a13",
   "metadata": {},
   "outputs": [],
   "source": [
    "mylist[0] = \"c\""
   ]
  },
  {
   "cell_type": "code",
   "execution_count": 16,
   "id": "35602d38",
   "metadata": {},
   "outputs": [
    {
     "name": "stdout",
     "output_type": "stream",
     "text": [
      "tuple is immutable\n"
     ]
    }
   ],
   "source": [
    "try:\n",
    "    mytuple[0] = \"c\"\n",
    "except:\n",
    "    print(\"tuple is immutable\")"
   ]
  },
  {
   "cell_type": "markdown",
   "id": "97ea0057",
   "metadata": {},
   "source": [
    "## Numpy module\n",
    "Numpy enables fast array computation and manipulation. Faster than Python List, locality of reference.\n"
   ]
  },
  {
   "cell_type": "code",
   "execution_count": 17,
   "id": "44bc893b",
   "metadata": {},
   "outputs": [
    {
     "data": {
      "text/plain": [
       "array([1, 2, 3, 4, 5])"
      ]
     },
     "execution_count": 17,
     "metadata": {},
     "output_type": "execute_result"
    }
   ],
   "source": [
    "import numpy as np\n",
    "x = np.array([1, 2, 3, 4, 5])\n",
    "x"
   ]
  },
  {
   "cell_type": "code",
   "execution_count": 18,
   "id": "7947264e",
   "metadata": {},
   "outputs": [
    {
     "data": {
      "text/plain": [
       "numpy.ndarray"
      ]
     },
     "execution_count": 18,
     "metadata": {},
     "output_type": "execute_result"
    }
   ],
   "source": [
    "type(x)\n"
   ]
  },
  {
   "cell_type": "markdown",
   "id": "977973ab",
   "metadata": {},
   "source": [
    "## Index\n"
   ]
  },
  {
   "cell_type": "code",
   "execution_count": 19,
   "id": "db2d9421",
   "metadata": {},
   "outputs": [
    {
     "name": "stdout",
     "output_type": "stream",
     "text": [
      "3\n",
      "5\n"
     ]
    }
   ],
   "source": [
    "print(x[2])\n",
    "print(x[-1])"
   ]
  },
  {
   "cell_type": "markdown",
   "id": "2706c260",
   "metadata": {},
   "source": [
    "## Slicing\n"
   ]
  },
  {
   "cell_type": "code",
   "execution_count": 20,
   "id": "50c27da0",
   "metadata": {},
   "outputs": [
    {
     "data": {
      "text/plain": [
       "array([3, 4])"
      ]
     },
     "execution_count": 20,
     "metadata": {},
     "output_type": "execute_result"
    }
   ],
   "source": [
    "x[2:4]"
   ]
  },
  {
   "cell_type": "code",
   "execution_count": 21,
   "id": "a63d079b",
   "metadata": {},
   "outputs": [
    {
     "data": {
      "text/plain": [
       "array([5, 4, 3, 2, 1])"
      ]
     },
     "execution_count": 21,
     "metadata": {},
     "output_type": "execute_result"
    }
   ],
   "source": [
    "x[:: -1]"
   ]
  },
  {
   "cell_type": "code",
   "execution_count": 22,
   "id": "6b44af41",
   "metadata": {},
   "outputs": [
    {
     "data": {
      "text/plain": [
       "array([1, 3, 5])"
      ]
     },
     "execution_count": 22,
     "metadata": {},
     "output_type": "execute_result"
    }
   ],
   "source": [
    "x[::2]"
   ]
  },
  {
   "cell_type": "code",
   "execution_count": 23,
   "id": "53c630c5",
   "metadata": {},
   "outputs": [
    {
     "name": "stdout",
     "output_type": "stream",
     "text": [
      "[1 2 3]\n"
     ]
    }
   ],
   "source": [
    "print(x[:3])"
   ]
  },
  {
   "cell_type": "code",
   "execution_count": 24,
   "id": "d5c3070c",
   "metadata": {},
   "outputs": [
    {
     "data": {
      "text/plain": [
       "array([1, 2, 3])"
      ]
     },
     "execution_count": 24,
     "metadata": {},
     "output_type": "execute_result"
    }
   ],
   "source": [
    "x[:-2]"
   ]
  },
  {
   "cell_type": "markdown",
   "id": "b0e0f130",
   "metadata": {},
   "source": [
    "## Concatenation"
   ]
  },
  {
   "cell_type": "code",
   "execution_count": 25,
   "id": "4cbc9cea",
   "metadata": {},
   "outputs": [
    {
     "data": {
      "text/plain": [
       "array([ 1,  2,  3,  4,  5,  6,  7,  8,  9, 10])"
      ]
     },
     "execution_count": 25,
     "metadata": {},
     "output_type": "execute_result"
    }
   ],
   "source": [
    "y = np.array([6, 7, 8, 9, 10])\n",
    "x_long = np.concatenate((x, y))\n",
    "x_long"
   ]
  },
  {
   "cell_type": "markdown",
   "id": "f9fb7d6a",
   "metadata": {},
   "source": [
    "## Attributes"
   ]
  },
  {
   "cell_type": "code",
   "execution_count": 26,
   "id": "dfba72e5",
   "metadata": {},
   "outputs": [
    {
     "name": "stdout",
     "output_type": "stream",
     "text": [
      "The shape of x_long is (10,)\n"
     ]
    }
   ],
   "source": [
    "print(\"The shape of x_long is {}\".format(x_long.shape))"
   ]
  },
  {
   "cell_type": "code",
   "execution_count": 27,
   "id": "eee4f847",
   "metadata": {},
   "outputs": [
    {
     "data": {
      "text/plain": [
       "(10,)"
      ]
     },
     "execution_count": 27,
     "metadata": {},
     "output_type": "execute_result"
    }
   ],
   "source": [
    "x_long.shape"
   ]
  },
  {
   "cell_type": "markdown",
   "id": "eac09cf2",
   "metadata": {},
   "source": [
    "## Create custom image"
   ]
  },
  {
   "cell_type": "code",
   "execution_count": 28,
   "id": "30073acd",
   "metadata": {},
   "outputs": [],
   "source": [
    "import matplotlib.pyplot as plt\n"
   ]
  },
  {
   "cell_type": "code",
   "execution_count": 29,
   "id": "5703be4b",
   "metadata": {},
   "outputs": [
    {
     "data": {
      "image/png": "[encoded data removed]",
      "text/plain": [
       "<Figure size 640x480 with 1 Axes>"
      ]
     },
     "metadata": {},
     "output_type": "display_data"
    }
   ],
   "source": [
    "black = np.zeros((200, 200), dtype = np.uint8)\n",
    "\n",
    "plt.imshow(black, cmap = plt.cm.gray)\n",
    "plt.title(\"Custom Black\")\n",
    "plt.show()"
   ]
  },
  {
   "cell_type": "code",
   "execution_count": 30,
   "id": "d5e498f2",
   "metadata": {},
   "outputs": [
    {
     "data": {
      "image/png": "[encoded data removed]",
      "text/plain": [
       "<Figure size 640x480 with 1 Axes>"
      ]
     },
     "metadata": {},
     "output_type": "display_data"
    }
   ],
   "source": [
    "# white image\n",
    "white = 255 * np.ones((200, 200))\n",
    "white = np.uint8(white)\n",
    "# white = white.astype(\"uint8\")\n",
    "\n",
    "plt.imshow(white, cmap=plt.cm.gray, vmin=0, vmax= 256)\n",
    "plt.title('Custom White')\n",
    "plt.xticks([]), plt.yticks([])\n",
    "plt.show()"
   ]
  },
  {
   "cell_type": "code",
   "execution_count": 31,
   "id": "e1b1cc19",
   "metadata": {},
   "outputs": [
    {
     "data": {
      "image/png": "[encoded data removed]",
      "text/plain": [
       "<Figure size 640x480 with 1 Axes>"
      ]
     },
     "metadata": {},
     "output_type": "display_data"
    }
   ],
   "source": [
    "#\n",
    "random_color_img = np.random.randint(0, high = 256, size = (100,100,3), dtype= np.uint8)\n",
    "plt.imshow(random_color_img)\n",
    "plt.title(\"random noise color image\")\n",
    "plt.xticks([]), plt.yticks([])\n",
    "plt.show()\n",
    "# Next, lets create random color image\n",
    "#noise_color_img=np.random.randint(0,high=256,size=(100,100,3),dtype=np.uint8)\n",
    "#plt.imshow(noise_color_img)\n",
    "#plt.title(\"random noise color image\")\n",
    "#plt.xticks([]), plt.yticks([])\n",
    "#plt.show()"
   ]
  },
  {
   "cell_type": "markdown",
   "id": "46e1dac8",
   "metadata": {},
   "source": [
    "### Exercises"
   ]
  },
  {
   "cell_type": "code",
   "execution_count": 32,
   "id": "bd442394",
   "metadata": {},
   "outputs": [],
   "source": [
    "# Question 1\n",
    "def OddorEven(x):\n",
    "    if isinstance(x, int):\n",
    "        if x == 0:\n",
    "            print(f\"{x} is neither even nor odd\")\n",
    "        elif x % 2 == 0:\n",
    "            print(f\"{x} is even\")\n",
    "        else:\n",
    "            print(f\"{x} is odd\")\n",
    "    else:\n",
    "        print(f\"{x} is not an integer\")"
   ]
  },
  {
   "cell_type": "code",
   "execution_count": 33,
   "id": "32311afe",
   "metadata": {
    "scrolled": true
   },
   "outputs": [
    {
     "name": "stdout",
     "output_type": "stream",
     "text": [
      "12 is even\n"
     ]
    }
   ],
   "source": [
    "OddorEven(12)"
   ]
  },
  {
   "cell_type": "code",
   "execution_count": 34,
   "id": "9778e162",
   "metadata": {},
   "outputs": [
    {
     "name": "stdout",
     "output_type": "stream",
     "text": [
      "0 is neither even nor odd\n"
     ]
    }
   ],
   "source": [
    "OddorEven(0)"
   ]
  },
  {
   "cell_type": "code",
   "execution_count": 35,
   "id": "02ec1aa7",
   "metadata": {},
   "outputs": [
    {
     "name": "stdout",
     "output_type": "stream",
     "text": [
      "3 is odd\n"
     ]
    }
   ],
   "source": [
    "OddorEven(3)"
   ]
  },
  {
   "cell_type": "code",
   "execution_count": 36,
   "id": "ac41e1c9",
   "metadata": {},
   "outputs": [
    {
     "name": "stdout",
     "output_type": "stream",
     "text": [
      "5.5 is not an integer\n"
     ]
    }
   ],
   "source": [
    "OddorEven(5.5)"
   ]
  },
  {
   "cell_type": "code",
   "execution_count": 37,
   "id": "31742efa",
   "metadata": {},
   "outputs": [],
   "source": [
    "# Question 2\n",
    "large_n = 1e6 #1,000,000\n",
    "\n",
    "#create a list and Numpy array\n",
    "numpy_arr = np.arange(large_n)\n",
    "list_arr = list(range(int(large_n)))"
   ]
  },
  {
   "cell_type": "code",
   "execution_count": 38,
   "id": "c4deb536",
   "metadata": {},
   "outputs": [
    {
     "name": "stdout",
     "output_type": "stream",
     "text": [
      "[0. 1. 2. 3. 4.]\n",
      "[0, 1, 2, 3, 4]\n"
     ]
    }
   ],
   "source": [
    "print(numpy_arr[:5])\n",
    "print(list_arr[:5])"
   ]
  },
  {
   "cell_type": "code",
   "execution_count": 39,
   "id": "90f376d5",
   "metadata": {},
   "outputs": [
    {
     "name": "stdout",
     "output_type": "stream",
     "text": [
      "4.05 ms ± 156 µs per loop (mean ± std. dev. of 7 runs, 100 loops each)\n"
     ]
    }
   ],
   "source": [
    "%timeit res = numpy_arr * 2"
   ]
  },
  {
   "cell_type": "code",
   "execution_count": 40,
   "id": "59b640bf",
   "metadata": {},
   "outputs": [
    {
     "name": "stdout",
     "output_type": "stream",
     "text": [
      "142 ms ± 7.84 ms per loop (mean ± std. dev. of 7 runs, 10 loops each)\n"
     ]
    }
   ],
   "source": [
    "%timeit res = [2 * i for i in list_arr]"
   ]
  },
  {
   "cell_type": "code",
   "execution_count": 41,
   "id": "3b9c62ca",
   "metadata": {},
   "outputs": [
    {
     "name": "stdout",
     "output_type": "stream",
     "text": [
      "[0 1 2 3 4 5 6 7 8 9]\n",
      "[ 0  1  2  3 25 25 25  7  8  9]\n",
      "[-1 25 25]\n",
      "[ 0  1  2  3 -1 25 25  7  8  9]\n",
      "[0 1 2 3 4 5 6 7 8 9]\n",
      "\n",
      "After Change:  [ 0  1  2  3 25 25 25  7  8  9]\n",
      "Array Slice:  [25 25 25]\n",
      "Array Slice:  [-1 25 25]\n",
      "After Change:  [ 0  1  2  3 25 25 25  7  8  9]\n"
     ]
    }
   ],
   "source": [
    "# Question 3\n",
    "my_arr = np.arange(10)\n",
    "print(my_arr)\n",
    "my_arr[4:7] = 25\n",
    "print(my_arr)\n",
    "arr_slice = my_arr[4:7]\n",
    "\n",
    "# Change the first element of arr_slice to -1\n",
    "arr_slice[0]= -1\n",
    "print(arr_slice)\n",
    "print(my_arr)\n",
    "\n",
    "# Result\n",
    "my_arr = np.arange(10)\n",
    "print(my_arr)\n",
    "my_arr[4:7] = 25\n",
    "print(\"\\nAfter Change: \", my_arr)\n",
    "arr_slice = np.copy(my_arr[4:7])\n",
    "print(\"Array Slice: \", arr_slice)\n",
    "\n",
    "# Change the first element of arr_slice1 to -1\n",
    "arr_slice[0]= -1\n",
    "\n",
    "print(\"Array Slice: \", arr_slice)\n",
    "print(\"After Change: \", my_arr)"
   ]
  },
  {
   "cell_type": "code",
   "execution_count": 42,
   "id": "7c3d50d7",
   "metadata": {},
   "outputs": [
    {
     "name": "stdout",
     "output_type": "stream",
     "text": [
      "Requirement already satisfied: opencv-python in c:\\users\\user\\anaconda3\\lib\\site-packages (4.8.0.76)\n",
      "Requirement already satisfied: numpy>=1.19.3 in c:\\users\\user\\anaconda3\\lib\\site-packages (from opencv-python) (1.23.5)\n",
      "Note: you may need to restart the kernel to use updated packages.\n"
     ]
    }
   ],
   "source": [
    "pip install opencv-python"
   ]
  },
  {
   "cell_type": "code",
   "execution_count": 45,
   "id": "2691e562",
   "metadata": {},
   "outputs": [
    {
     "data": {
      "image/png": "[encoded data removed]",
      "text/plain": [
       "<Figure size 640x480 with 1 Axes>"
      ]
     },
     "metadata": {},
     "output_type": "display_data"
    }
   ],
   "source": [
    "# Question 4\n",
    "import cv2 \n",
    "import matplotlib.pyplot as plt\n",
    "black_img = np.zeros((200, 200), dtype = np.uint8)\n",
    "\n",
    "white_circle = cv2.circle(black_img, center = (100, 100), radius = 50, color = (255, 255, 0), thickness = -1)\n",
    "\n",
    "plt.imshow(black_img, cmap = plt.cm.gray)\n",
    "plt.title('White Circle Black Image')\n",
    "plt.xticks([]), plt.yticks([])\n",
    "plt.show()"
   ]
  }
 ],
 "metadata": {
  "kernelspec": {
   "display_name": "Python 3 (ipykernel)",
   "language": "python",
   "name": "python3"
  },
  "language_info": {
   "codemirror_mode": {
    "name": "ipython",
    "version": 3
   },
   "file_extension": ".py",
   "mimetype": "text/x-python",
   "name": "python",
   "nbconvert_exporter": "python",
   "pygments_lexer": "ipython3",
   "version": "3.10.9"
  }
 },
 "nbformat": 4,
 "nbformat_minor": 5
}
